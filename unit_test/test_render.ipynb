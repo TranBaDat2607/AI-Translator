{
 "cells": [
  {
   "cell_type": "code",
   "execution_count": 253,
   "metadata": {},
   "outputs": [],
   "source": [
    "import pymupdf\n",
    "import os"
   ]
  },
  {
   "cell_type": "code",
   "execution_count": 254,
   "metadata": {},
   "outputs": [],
   "source": [
    "text = \"DeepFace: Thu hẹp khoảng cách đến hiệu suất nhận diện khuôn mặt ở mức độ con người\"\n",
    "# font_path = r\"C:/Users/Admin/Desktop/proj/AI-Translator/src/pdf2zh/fonts/arial.ttf\"\n",
    "font_path = r\"C:/Users/Admin/Desktop/proj/AI-Translator/src/pdf2zh/fonts/ArialBd.ttf\"\n",
    "fontname = \"MyArial\"\n",
    "text_box = pymupdf.Rect(59.89099884033203, 105.9219970703125, 535.3385620117188, 120.26819610595703)\n",
    "# text_box = pymupdf.Rect(50, 50, 240, 240)\n",
    "fontsize = 14.346199989318848"
   ]
  },
  {
   "cell_type": "code",
   "execution_count": 255,
   "metadata": {},
   "outputs": [],
   "source": [
    "doc = pymupdf.open()\n",
    "page = doc.new_page()"
   ]
  },
  {
   "cell_type": "code",
   "execution_count": 256,
   "metadata": {},
   "outputs": [
    {
     "data": {
      "text/plain": [
       "5"
      ]
     },
     "execution_count": 256,
     "metadata": {},
     "output_type": "execute_result"
    }
   ],
   "source": [
    "page.insert_font(fontfile=font_path, fontname=fontname)\n"
   ]
  },
  {
   "cell_type": "code",
   "execution_count": 257,
   "metadata": {},
   "outputs": [
    {
     "data": {
      "text/plain": [
       "Point(59.89099884033203, 105.9219970703125)"
      ]
     },
     "execution_count": 257,
     "metadata": {},
     "output_type": "execute_result"
    }
   ],
   "source": [
    "page.insert_textbox(text_box, text,\n",
    "                    fontname=fontname,\n",
    "                    fontsize=fontsize,\n",
    "                    color=(0, 0, 0),\n",
    "                    overlay=True,\n",
    "                )\n",
    "page.draw_rect(pymupdf.Rect(59.89099884033203, 105.9219970703125, 535.3385620117188, 120.26819610595703))"
   ]
  },
  {
   "cell_type": "code",
   "execution_count": 258,
   "metadata": {},
   "outputs": [],
   "source": [
    "doc.save(\"test_render.pdf\")"
   ]
  },
  {
   "cell_type": "code",
   "execution_count": null,
   "metadata": {},
   "outputs": [],
   "source": []
  }
 ],
 "metadata": {
  "kernelspec": {
   "display_name": "pdf-translator",
   "language": "python",
   "name": "python3"
  },
  "language_info": {
   "codemirror_mode": {
    "name": "ipython",
    "version": 3
   },
   "file_extension": ".py",
   "mimetype": "text/x-python",
   "name": "python",
   "nbconvert_exporter": "python",
   "pygments_lexer": "ipython3",
   "version": "3.10.17"
  }
 },
 "nbformat": 4,
 "nbformat_minor": 2
}
